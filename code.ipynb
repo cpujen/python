{
  "cells": [
    {
      "cell_type": "markdown",
      "source": [
        "# Data Type\n",
        "*   Number (integral: boolean, int; non-integral: loat, complex)\n",
        "*   Collection\n",
        " *     Sequence (mutable: list; immutable: tuple, string)\n",
        " *     Set (mutable: set; immutable: frozen set)\n",
        " *     Mapping (mutable: dictionary)\n",
        "*   Callable\n",
        " *     User-defined function\n",
        " *     Class\n",
        " *     Class instance ( __call()__ )\n",
        " *     Instance method\n",
        " *     Built-in function ( len(), open() )\n",
        " *     Built-in method ( lst.append() )\n",
        "*   Singleton\n",
        " *     None"
      ],
      "metadata": {
        "id": "vK_yGhqzB_7z"
      },
      "id": "vK_yGhqzB_7z"
    },
    {
      "cell_type": "code",
      "source": [
        "## inline comments\n",
        "a = [1, #first element\n",
        "    2, #second element\n",
        "    3, #third element\n",
        "    ]\n",
        "print(a)"
      ],
      "metadata": {
        "id": "zZ-HGmt9ICXr",
        "outputId": "38ab7c67-72ec-4e7d-eceb-6352df11fe65",
        "colab": {
          "base_uri": "https://localhost:8080/"
        }
      },
      "id": "zZ-HGmt9ICXr",
      "execution_count": 7,
      "outputs": [
        {
          "output_type": "stream",
          "name": "stdout",
          "text": [
            "[1, 2, 3]\n"
          ]
        }
      ]
    },
    {
      "cell_type": "code",
      "source": [
        "## explicit multiple lines\n",
        "a = 10\n",
        "b = 20\n",
        "c = 30\n",
        "if a > 5 \\\n",
        "    and b > 10 \\\n",
        "    and c > 20:\n",
        "    print('yes!!')"
      ],
      "metadata": {
        "id": "nLX6jhVcJW2L",
        "outputId": "a6a4637f-9ee7-4719-9cfd-9c5c4ee53c72",
        "colab": {
          "base_uri": "https://localhost:8080/"
        }
      },
      "id": "nLX6jhVcJW2L",
      "execution_count": 8,
      "outputs": [
        {
          "output_type": "stream",
          "name": "stdout",
          "text": [
            "yes!!\n"
          ]
        }
      ]
    },
    {
      "cell_type": "code",
      "source": [
        "a = \"\"\"some items:\\n\n",
        "    1. item 1\n",
        "    2. item 2\"\"\"\n",
        "print(a)"
      ],
      "metadata": {
        "id": "zJNwDgmcKL0h",
        "outputId": "d8b6dd4f-4eb4-4af8-e6b0-0186415afd62",
        "colab": {
          "base_uri": "https://localhost:8080/"
        }
      },
      "id": "zJNwDgmcKL0h",
      "execution_count": 9,
      "outputs": [
        {
          "output_type": "stream",
          "name": "stdout",
          "text": [
            "some items:\n",
            "\n",
            "    1. item 1\n",
            "    2. item 2\n"
          ]
        }
      ]
    },
    {
      "cell_type": "markdown",
      "source": [
        "# Variable Naming\n",
        "*    Constant:   MIN_SIZE\n",
        "*    Class:      MyClassName\n",
        "*    Module:     my_module  (ok _)\n",
        "*    Package:    utilities  (no _)\n",
        "*    Others:     my_va_name / my_func_name\n",
        "*    private:    _my_var_name / _my_func_name (NOT be imported by \"from module import *\")\n",
        "*    mangling:   __my_class_attr (Not be inherited)\n",
        "*    system-defined: __init__ (Don't use it)\n"
      ],
      "metadata": {
        "id": "FFkhLA3cK6HH"
      },
      "id": "FFkhLA3cK6HH"
    },
    {
      "cell_type": "markdown",
      "source": [
        "# Conditionals\n",
        "*   if-elif-else\n",
        "*   X if (condition) else Y"
      ],
      "metadata": {
        "id": "7PFkFdnoNg-0"
      },
      "id": "7PFkFdnoNg-0"
    },
    {
      "cell_type": "code",
      "source": [
        "a = 15\n",
        "\n",
        "if a < 5:\n",
        "    print('a < 5')\n",
        "else:\n",
        "    if a < 10:\n",
        "        print('5 <= a < 10')\n",
        "    else:\n",
        "        print('a >= 10')"
      ],
      "metadata": {
        "id": "yPSvgdaoN9e7",
        "outputId": "7a63a2bf-ba34-447f-e953-7b876e8d9086",
        "colab": {
          "base_uri": "https://localhost:8080/"
        }
      },
      "id": "yPSvgdaoN9e7",
      "execution_count": 10,
      "outputs": [
        {
          "output_type": "stream",
          "name": "stdout",
          "text": [
            "a >= 10\n"
          ]
        }
      ]
    },
    {
      "cell_type": "code",
      "source": [
        "a = 15\n",
        "if a < 5:\n",
        "    print('a < 5')\n",
        "elif a < 10:\n",
        "    print('5 <= a < 10')\n",
        "else:\n",
        "    print('a >= 10')"
      ],
      "metadata": {
        "id": "NYlBaCNON_fE",
        "outputId": "d4d271ee-d747-4e52-ee53-ad553bb6a96c",
        "colab": {
          "base_uri": "https://localhost:8080/"
        }
      },
      "id": "NYlBaCNON_fE",
      "execution_count": 11,
      "outputs": [
        {
          "output_type": "stream",
          "name": "stdout",
          "text": [
            "a >= 10\n"
          ]
        }
      ]
    },
    {
      "cell_type": "code",
      "source": [
        "a = 5\n",
        "res = 'a < 10' if a < 10 else 'a >= 10'\n",
        "print(res)"
      ],
      "metadata": {
        "id": "0CxL3s1WOJPM",
        "outputId": "1a11cd71-e30d-4dbe-e9ed-d0118d60c58a",
        "colab": {
          "base_uri": "https://localhost:8080/"
        }
      },
      "id": "0CxL3s1WOJPM",
      "execution_count": 12,
      "outputs": [
        {
          "output_type": "stream",
          "name": "stdout",
          "text": [
            "a < 10\n"
          ]
        }
      ]
    },
    {
      "cell_type": "code",
      "source": [
        "def say_hello():\n",
        "    print('Hello!')\n",
        "\n",
        "def say_goodbye():\n",
        "    print('Goodbye!')\n",
        "\n",
        "a = 5\n",
        "say_hello() if a < 10 else say_goodbye()"
      ],
      "metadata": {
        "id": "zMNoimdyOQZA",
        "outputId": "37c57f87-0efb-49cd-c78a-d8408843099e",
        "colab": {
          "base_uri": "https://localhost:8080/"
        }
      },
      "id": "zMNoimdyOQZA",
      "execution_count": 15,
      "outputs": [
        {
          "output_type": "stream",
          "name": "stdout",
          "text": [
            "Hello!\n"
          ]
        }
      ]
    },
    {
      "cell_type": "markdown",
      "source": [
        "# Functions"
      ],
      "metadata": {
        "id": "IaDb9TuUOoYc"
      },
      "id": "IaDb9TuUOoYc"
    }
  ],
  "metadata": {
    "environment": {
      "name": "common-cpu.m65",
      "type": "gcloud",
      "uri": "gcr.io/deeplearning-platform-release/base-cpu:m65"
    },
    "kernelspec": {
      "name": "python385jvsc74a57bd049d76db75e1e28746d71c3f6b25c62af887e3a226b459dd4a66c59b073abe6db",
      "display_name": "Python 3.8.5 64-bit (conda)"
    },
    "language_info": {
      "codemirror_mode": {
        "name": "ipython",
        "version": 3
      },
      "file_extension": ".py",
      "mimetype": "text/x-python",
      "name": "python",
      "nbconvert_exporter": "python",
      "pygments_lexer": "ipython3",
      "version": "3.8.5"
    },
    "colab": {
      "provenance": [],
      "toc_visible": true
    }
  },
  "nbformat": 4,
  "nbformat_minor": 5
}