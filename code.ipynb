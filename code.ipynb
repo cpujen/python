{
  "cells": [
    {
      "cell_type": "markdown",
      "source": [
        "# Data Type\n",
        "*   Number (integral: boolean, int; non-integral: loat, complex)\n",
        "*   Collection\n",
        " *     Sequence (mutable: list; immutable: tuple, string)\n",
        " *     Set (mutable: set; immutable: frozen set)\n",
        " *     Mapping (mutable: dictionary)\n",
        "*   Callable\n",
        " *     User-defined function\n",
        " *     Class\n",
        " *     Class instance ( __call()__ )\n",
        " *     Instance method\n",
        " *     Built-in function ( len(), open() )\n",
        " *     Built-in method ( lst.append() )\n",
        "*   Singleton\n",
        " *     None"
      ],
      "metadata": {
        "id": "vK_yGhqzB_7z"
      },
      "id": "vK_yGhqzB_7z"
    },
    {
      "cell_type": "code",
      "source": [
        "## inline comments\n",
        "a = [1, #first element\n",
        "    2, #second element\n",
        "    3, #third element\n",
        "    ]\n",
        "print(a)"
      ],
      "metadata": {
        "colab": {
          "base_uri": "https://localhost:8080/"
        },
        "id": "zZ-HGmt9ICXr",
        "outputId": "38ab7c67-72ec-4e7d-eceb-6352df11fe65"
      },
      "id": "zZ-HGmt9ICXr",
      "execution_count": 7,
      "outputs": [
        {
          "output_type": "stream",
          "name": "stdout",
          "text": [
            "[1, 2, 3]\n"
          ]
        }
      ]
    },
    {
      "cell_type": "code",
      "source": [
        "## explicit multiple lines\n",
        "a = 10\n",
        "b = 20\n",
        "c = 30\n",
        "if a > 5 \\\n",
        "    and b > 10 \\\n",
        "    and c > 20:\n",
        "    print('yes!!')"
      ],
      "metadata": {
        "colab": {
          "base_uri": "https://localhost:8080/"
        },
        "id": "nLX6jhVcJW2L",
        "outputId": "a6a4637f-9ee7-4719-9cfd-9c5c4ee53c72"
      },
      "id": "nLX6jhVcJW2L",
      "execution_count": 8,
      "outputs": [
        {
          "output_type": "stream",
          "name": "stdout",
          "text": [
            "yes!!\n"
          ]
        }
      ]
    },
    {
      "cell_type": "code",
      "source": [
        "a = \"\"\"some items:\\n\n",
        "    1. item 1\n",
        "    2. item 2\"\"\"\n",
        "print(a)"
      ],
      "metadata": {
        "colab": {
          "base_uri": "https://localhost:8080/"
        },
        "id": "zJNwDgmcKL0h",
        "outputId": "d8b6dd4f-4eb4-4af8-e6b0-0186415afd62"
      },
      "id": "zJNwDgmcKL0h",
      "execution_count": 9,
      "outputs": [
        {
          "output_type": "stream",
          "name": "stdout",
          "text": [
            "some items:\n",
            "\n",
            "    1. item 1\n",
            "    2. item 2\n"
          ]
        }
      ]
    },
    {
      "cell_type": "markdown",
      "source": [
        "# Variable Naming\n",
        "*    Constant:   MIN_SIZE\n",
        "*    Class:      MyClassName\n",
        "*    Module:     my_module  (ok _)\n",
        "*    Package:    utilities  (no _)\n",
        "*    Others:     my_va_name / my_func_name\n",
        "*    private:    _my_var_name / _my_func_name (NOT be imported by \"from module import *\")\n",
        "*    mangling:   __my_class_attr (Not be inherited)\n",
        "*    system-defined: __init__ (Don't use it)\n"
      ],
      "metadata": {
        "id": "FFkhLA3cK6HH"
      },
      "id": "FFkhLA3cK6HH"
    },
    {
      "cell_type": "markdown",
      "source": [
        "# Conditionals\n",
        "*   if-elif-else\n",
        "*   X if (condition) else Y"
      ],
      "metadata": {
        "id": "7PFkFdnoNg-0"
      },
      "id": "7PFkFdnoNg-0"
    },
    {
      "cell_type": "code",
      "source": [
        "a = 15\n",
        "\n",
        "if a < 5:\n",
        "    print('a < 5')\n",
        "else:\n",
        "    if a < 10:\n",
        "        print('5 <= a < 10')\n",
        "    else:\n",
        "        print('a >= 10')"
      ],
      "metadata": {
        "colab": {
          "base_uri": "https://localhost:8080/"
        },
        "id": "yPSvgdaoN9e7",
        "outputId": "7a63a2bf-ba34-447f-e953-7b876e8d9086"
      },
      "id": "yPSvgdaoN9e7",
      "execution_count": 10,
      "outputs": [
        {
          "output_type": "stream",
          "name": "stdout",
          "text": [
            "a >= 10\n"
          ]
        }
      ]
    },
    {
      "cell_type": "code",
      "source": [
        "a = 15\n",
        "if a < 5:\n",
        "    print('a < 5')\n",
        "elif a < 10:\n",
        "    print('5 <= a < 10')\n",
        "else:\n",
        "    print('a >= 10')"
      ],
      "metadata": {
        "colab": {
          "base_uri": "https://localhost:8080/"
        },
        "id": "NYlBaCNON_fE",
        "outputId": "d4d271ee-d747-4e52-ee53-ad553bb6a96c"
      },
      "id": "NYlBaCNON_fE",
      "execution_count": 11,
      "outputs": [
        {
          "output_type": "stream",
          "name": "stdout",
          "text": [
            "a >= 10\n"
          ]
        }
      ]
    },
    {
      "cell_type": "code",
      "source": [
        "a = 5\n",
        "res = 'a < 10' if a < 10 else 'a >= 10'\n",
        "print(res)"
      ],
      "metadata": {
        "colab": {
          "base_uri": "https://localhost:8080/"
        },
        "id": "0CxL3s1WOJPM",
        "outputId": "1a11cd71-e30d-4dbe-e9ed-d0118d60c58a"
      },
      "id": "0CxL3s1WOJPM",
      "execution_count": 12,
      "outputs": [
        {
          "output_type": "stream",
          "name": "stdout",
          "text": [
            "a < 10\n"
          ]
        }
      ]
    },
    {
      "cell_type": "code",
      "source": [
        "def say_hello():\n",
        "    print('Hello!')\n",
        "\n",
        "def say_goodbye():\n",
        "    print('Goodbye!')\n",
        "\n",
        "a = 5\n",
        "say_hello() if a < 10 else say_goodbye()"
      ],
      "metadata": {
        "colab": {
          "base_uri": "https://localhost:8080/"
        },
        "id": "zMNoimdyOQZA",
        "outputId": "37c57f87-0efb-49cd-c78a-d8408843099e"
      },
      "id": "zMNoimdyOQZA",
      "execution_count": 15,
      "outputs": [
        {
          "output_type": "stream",
          "name": "stdout",
          "text": [
            "Hello!\n"
          ]
        }
      ]
    },
    {
      "cell_type": "markdown",
      "source": [
        "# Functions\n",
        "*     Function is defined when def is reached, but the code inside it is not evaluated until the function is called.\n",
        "*     We can define functions that call other functions defined later - as long as we don't call them before all the necessary functions are defined.\n",
        "*     Functions are first-class objects, meaning it can be assigned to variables just as an integer\n",
        "*     The **def** keyword is an executable piece of code that creates the function (an instance of the function class) and essentially assigns it to a variable name (the function name).\n",
        "*     The **lambda** keyword, that also creates a new function, but does not assign it to any specific name - instead it just returns the function object - which we can, if we wish, assign to a variable ourselves\n"
      ],
      "metadata": {
        "id": "IaDb9TuUOoYc"
      },
      "id": "IaDb9TuUOoYc"
    },
    {
      "cell_type": "code",
      "source": [
        "s = [1, 2, 3]\n",
        "len(s)"
      ],
      "metadata": {
        "colab": {
          "base_uri": "https://localhost:8080/"
        },
        "id": "oM653yFcR_Ub",
        "outputId": "e2a6762f-5090-43d9-f0a9-4ff3a02dff06"
      },
      "id": "oM653yFcR_Ub",
      "execution_count": 17,
      "outputs": [
        {
          "output_type": "execute_result",
          "data": {
            "text/plain": [
              "3"
            ]
          },
          "metadata": {},
          "execution_count": 17
        }
      ]
    },
    {
      "cell_type": "code",
      "source": [
        "from math import sqrt\n",
        "sqrt(4)"
      ],
      "metadata": {
        "colab": {
          "base_uri": "https://localhost:8080/"
        },
        "id": "iWkqzL3eSFrN",
        "outputId": "8528361d-6769-4ec4-e980-32000f009117"
      },
      "id": "iWkqzL3eSFrN",
      "execution_count": 18,
      "outputs": [
        {
          "output_type": "execute_result",
          "data": {
            "text/plain": [
              "2.0"
            ]
          },
          "metadata": {},
          "execution_count": 18
        }
      ]
    },
    {
      "cell_type": "code",
      "source": [
        "import math\n",
        "math.exp(1)"
      ],
      "metadata": {
        "colab": {
          "base_uri": "https://localhost:8080/"
        },
        "id": "hmcLPmePSQOt",
        "outputId": "705a0081-3c2a-4238-ed79-572deefcb154"
      },
      "id": "hmcLPmePSQOt",
      "execution_count": 19,
      "outputs": [
        {
          "output_type": "execute_result",
          "data": {
            "text/plain": [
              "2.718281828459045"
            ]
          },
          "metadata": {},
          "execution_count": 19
        }
      ]
    },
    {
      "cell_type": "code",
      "source": [
        "def func_1():\n",
        "    ''' this is a function '''\n",
        "    print('running func1')\n",
        "\n",
        "func_1"
      ],
      "metadata": {
        "colab": {
          "base_uri": "https://localhost:8080/",
          "height": 104
        },
        "id": "r_uLAnqiSTuc",
        "outputId": "90405dbe-c5b6-455a-a66f-759c99c0372a"
      },
      "id": "r_uLAnqiSTuc",
      "execution_count": 25,
      "outputs": [
        {
          "output_type": "execute_result",
          "data": {
            "text/plain": [
              "<function __main__.func_1()>"
            ],
            "text/html": [
              "<div style=\"max-width:800px; border: 1px solid var(--colab-border-color);\"><style>\n",
              "      pre.function-repr-contents {\n",
              "        overflow-x: auto;\n",
              "        padding: 8px 12px;\n",
              "        max-height: 500px;\n",
              "      }\n",
              "\n",
              "      pre.function-repr-contents.function-repr-contents-collapsed {\n",
              "        cursor: pointer;\n",
              "        max-height: 100px;\n",
              "      }\n",
              "    </style>\n",
              "    <pre style=\"white-space: initial; background:\n",
              "         var(--colab-secondary-surface-color); padding: 8px 12px;\n",
              "         border-bottom: 1px solid var(--colab-border-color);\"><b>func_1</b><br/>def func_1()</pre><pre class=\"function-repr-contents function-repr-contents-collapsed\" style=\"\"><a class=\"filepath\" style=\"display:none\" href=\"#\">/content/&lt;ipython-input-25-49ec96e3518f&gt;</a>this is a function </pre></div>"
            ]
          },
          "metadata": {},
          "execution_count": 25
        }
      ]
    },
    {
      "cell_type": "code",
      "source": [
        "def func_1():\n",
        "    ''' this is a function '''\n",
        "    print('running func1')\n",
        "\n",
        "func_1()     # call function"
      ],
      "metadata": {
        "colab": {
          "base_uri": "https://localhost:8080/"
        },
        "id": "KoysyteHS0ho",
        "outputId": "b5f15661-ddc8-4ae0-b31b-9b1899453e1d"
      },
      "id": "KoysyteHS0ho",
      "execution_count": 26,
      "outputs": [
        {
          "output_type": "stream",
          "name": "stdout",
          "text": [
            "running func1\n"
          ]
        }
      ]
    },
    {
      "cell_type": "code",
      "source": [
        "def func_2(a, b):\n",
        "    return a * b\n",
        "\n",
        "func_2(2,3)"
      ],
      "metadata": {
        "colab": {
          "base_uri": "https://localhost:8080/"
        },
        "id": "u4SYdLMmS-So",
        "outputId": "1f673df2-d79f-4ea1-a14b-574d7ecd25f0"
      },
      "id": "u4SYdLMmS-So",
      "execution_count": 27,
      "outputs": [
        {
          "output_type": "execute_result",
          "data": {
            "text/plain": [
              "6"
            ]
          },
          "metadata": {},
          "execution_count": 27
        }
      ]
    },
    {
      "cell_type": "code",
      "source": [
        "def func_2(a, b):\n",
        "    return a * b\n",
        "\n",
        "func_2('a',3)"
      ],
      "metadata": {
        "colab": {
          "base_uri": "https://localhost:8080/",
          "height": 35
        },
        "id": "3GwVknXzTDHn",
        "outputId": "236df289-92c8-476e-e97d-0d5a956c5bf8"
      },
      "id": "3GwVknXzTDHn",
      "execution_count": 28,
      "outputs": [
        {
          "output_type": "execute_result",
          "data": {
            "text/plain": [
              "'aaa'"
            ],
            "application/vnd.google.colaboratory.intrinsic+json": {
              "type": "string"
            }
          },
          "metadata": {},
          "execution_count": 28
        }
      ]
    },
    {
      "cell_type": "code",
      "source": [
        "# use type annotations, not enforce a data type\n",
        "def func_3(a: int, b:int):\n",
        "    return a * b\n",
        "\n",
        "func_3('a',3)"
      ],
      "metadata": {
        "colab": {
          "base_uri": "https://localhost:8080/",
          "height": 35
        },
        "id": "LGkQfhoTTJD9",
        "outputId": "1e6dd48e-3361-4074-f633-9cd5526cab97"
      },
      "id": "LGkQfhoTTJD9",
      "execution_count": 30,
      "outputs": [
        {
          "output_type": "execute_result",
          "data": {
            "text/plain": [
              "'aaa'"
            ],
            "application/vnd.google.colaboratory.intrinsic+json": {
              "type": "string"
            }
          },
          "metadata": {},
          "execution_count": 30
        }
      ]
    },
    {
      "cell_type": "code",
      "source": [
        "# Functions are first-class objects, meaning it can be assigned to variables just as an integer\n",
        "def func_4():\n",
        "    # does something but does not return a value\n",
        "    a = 2\n",
        "res = func_4()\n",
        "print(res)"
      ],
      "metadata": {
        "colab": {
          "base_uri": "https://localhost:8080/"
        },
        "id": "U5Ol--ufTlDZ",
        "outputId": "02d47ab4-f94d-41c7-8bb6-44092b17b4c6"
      },
      "id": "U5Ol--ufTlDZ",
      "execution_count": 33,
      "outputs": [
        {
          "output_type": "stream",
          "name": "stdout",
          "text": [
            "None\n"
          ]
        }
      ]
    },
    {
      "cell_type": "code",
      "source": [
        "def fn_1():\n",
        "    fn_2()\n",
        "\n",
        "def fn_2():\n",
        "    print('Hello')\n",
        "\n",
        "fn_1()\n"
      ],
      "metadata": {
        "colab": {
          "base_uri": "https://localhost:8080/"
        },
        "id": "MHqOSpx0U8Z-",
        "outputId": "0d2eae4a-3f22-49c1-ab63-5ca94c53e291"
      },
      "id": "MHqOSpx0U8Z-",
      "execution_count": 34,
      "outputs": [
        {
          "output_type": "stream",
          "name": "stdout",
          "text": [
            "Hello\n"
          ]
        }
      ]
    },
    {
      "cell_type": "code",
      "source": [
        "def fn_3():\n",
        "    fn_4()\n",
        "\n",
        "fn_3()\n",
        "\n",
        "def fn_4():\n",
        "    print('Hello')\n",
        "\n"
      ],
      "metadata": {
        "colab": {
          "base_uri": "https://localhost:8080/",
          "height": 336
        },
        "id": "jLmZ0H0iVIR6",
        "outputId": "41580568-2001-43ad-bdee-a1119a8914e4"
      },
      "id": "jLmZ0H0iVIR6",
      "execution_count": 35,
      "outputs": [
        {
          "output_type": "error",
          "ename": "NameError",
          "evalue": "name 'fn_4' is not defined",
          "traceback": [
            "\u001b[0;31m---------------------------------------------------------------------------\u001b[0m",
            "\u001b[0;31mNameError\u001b[0m                                 Traceback (most recent call last)",
            "\u001b[0;32m<ipython-input-35-80fbeed67965>\u001b[0m in \u001b[0;36m<cell line: 0>\u001b[0;34m()\u001b[0m\n\u001b[1;32m      2\u001b[0m     \u001b[0mfn_4\u001b[0m\u001b[0;34m(\u001b[0m\u001b[0;34m)\u001b[0m\u001b[0;34m\u001b[0m\u001b[0;34m\u001b[0m\u001b[0m\n\u001b[1;32m      3\u001b[0m \u001b[0;34m\u001b[0m\u001b[0m\n\u001b[0;32m----> 4\u001b[0;31m \u001b[0mfn_3\u001b[0m\u001b[0;34m(\u001b[0m\u001b[0;34m)\u001b[0m\u001b[0;34m\u001b[0m\u001b[0;34m\u001b[0m\u001b[0m\n\u001b[0m\u001b[1;32m      5\u001b[0m \u001b[0;34m\u001b[0m\u001b[0m\n\u001b[1;32m      6\u001b[0m \u001b[0;32mdef\u001b[0m \u001b[0mfn_4\u001b[0m\u001b[0;34m(\u001b[0m\u001b[0;34m)\u001b[0m\u001b[0;34m:\u001b[0m\u001b[0;34m\u001b[0m\u001b[0;34m\u001b[0m\u001b[0m\n",
            "\u001b[0;32m<ipython-input-35-80fbeed67965>\u001b[0m in \u001b[0;36mfn_3\u001b[0;34m()\u001b[0m\n\u001b[1;32m      1\u001b[0m \u001b[0;32mdef\u001b[0m \u001b[0mfn_3\u001b[0m\u001b[0;34m(\u001b[0m\u001b[0;34m)\u001b[0m\u001b[0;34m:\u001b[0m\u001b[0;34m\u001b[0m\u001b[0;34m\u001b[0m\u001b[0m\n\u001b[0;32m----> 2\u001b[0;31m     \u001b[0mfn_4\u001b[0m\u001b[0;34m(\u001b[0m\u001b[0;34m)\u001b[0m\u001b[0;34m\u001b[0m\u001b[0;34m\u001b[0m\u001b[0m\n\u001b[0m\u001b[1;32m      3\u001b[0m \u001b[0;34m\u001b[0m\u001b[0m\n\u001b[1;32m      4\u001b[0m \u001b[0mfn_3\u001b[0m\u001b[0;34m(\u001b[0m\u001b[0;34m)\u001b[0m\u001b[0;34m\u001b[0m\u001b[0;34m\u001b[0m\u001b[0m\n\u001b[1;32m      5\u001b[0m \u001b[0;34m\u001b[0m\u001b[0m\n",
            "\u001b[0;31mNameError\u001b[0m: name 'fn_4' is not defined"
          ]
        }
      ]
    },
    {
      "cell_type": "code",
      "source": [
        "func_5 = lambda x: x**2\n",
        "func_5"
      ],
      "metadata": {
        "colab": {
          "base_uri": "https://localhost:8080/"
        },
        "id": "x4y26pRMVrvx",
        "outputId": "d3f513f7-0d8a-457b-cbe6-d0519ccaa1de"
      },
      "id": "x4y26pRMVrvx",
      "execution_count": 39,
      "outputs": [
        {
          "output_type": "execute_result",
          "data": {
            "text/plain": [
              "<function __main__.<lambda>(x)>"
            ]
          },
          "metadata": {},
          "execution_count": 39
        }
      ]
    },
    {
      "cell_type": "code",
      "source": [
        "func_5 = lambda x: x**2\n",
        "func_5(2)"
      ],
      "metadata": {
        "colab": {
          "base_uri": "https://localhost:8080/"
        },
        "id": "EDfJDAtwV5D_",
        "outputId": "2b05c95c-e126-4864-aaee-030df173fbeb"
      },
      "id": "EDfJDAtwV5D_",
      "execution_count": 41,
      "outputs": [
        {
          "output_type": "execute_result",
          "data": {
            "text/plain": [
              "4"
            ]
          },
          "metadata": {},
          "execution_count": 41
        }
      ]
    },
    {
      "cell_type": "markdown",
      "source": [
        "# While Loops\n",
        "*    while loop can be used with break, continue, else\n",
        "*    The else is executed if the while loop terminated without hitting a break statement (we say the loop terminated normally)"
      ],
      "metadata": {
        "id": "cZch75uYluQF"
      },
      "id": "cZch75uYluQF"
    },
    {
      "cell_type": "code",
      "source": [
        "min_length = 2\n",
        "\n",
        "name = input('Please enter your name:')\n",
        "\n",
        "while not(len(name) >= min_length  and name.isprintable() and name.isalpha()):\n",
        "    name = input('Please enter your name:')\n",
        "\n",
        "print('Hello, {0}'.format(name))"
      ],
      "metadata": {
        "id": "rkM_k_U4lzmJ",
        "outputId": "bf3c37dc-f997-4ac1-a794-a837e9c6364d",
        "colab": {
          "base_uri": "https://localhost:8080/"
        }
      },
      "id": "rkM_k_U4lzmJ",
      "execution_count": 42,
      "outputs": [
        {
          "output_type": "stream",
          "name": "stdout",
          "text": [
            "Please enter your name:a\n",
            "Please enter your name:a10\n",
            "Please enter your name:abc\n",
            "Hello, abc\n"
          ]
        }
      ]
    },
    {
      "cell_type": "code",
      "source": [
        "min_length = 2\n",
        "\n",
        "while True:\n",
        "    name = input('Please enter your name:')\n",
        "    if len(name) >= min_length  and name.isprintable() and name.isalpha():\n",
        "        break\n",
        "\n",
        "print('Hello, {0}'.format(name))"
      ],
      "metadata": {
        "id": "w0gbH1IFl8bP",
        "outputId": "253acee2-fab2-4ac4-b466-3604c86ae986",
        "colab": {
          "base_uri": "https://localhost:8080/"
        }
      },
      "id": "w0gbH1IFl8bP",
      "execution_count": 44,
      "outputs": [
        {
          "output_type": "stream",
          "name": "stdout",
          "text": [
            "Please enter your name:a\n",
            "Please enter your name:a1\n",
            "Please enter your name:abc\n",
            "Hello, abc\n"
          ]
        }
      ]
    },
    {
      "cell_type": "code",
      "source": [
        "l = [1, 2, 3]\n",
        "val = 10\n",
        "\n",
        "found = False\n",
        "idx = 0\n",
        "while idx < len(l):\n",
        "    if l[idx] == val:\n",
        "        found = True\n",
        "        break\n",
        "    idx += 1\n",
        "\n",
        "if not found:\n",
        "    l.append(val)\n",
        "print(l)"
      ],
      "metadata": {
        "id": "pdmYRj_woFXd",
        "outputId": "8e1cba1a-2dcc-4547-a000-dc7af2568e50",
        "colab": {
          "base_uri": "https://localhost:8080/"
        }
      },
      "id": "pdmYRj_woFXd",
      "execution_count": 45,
      "outputs": [
        {
          "output_type": "stream",
          "name": "stdout",
          "text": [
            "[1, 2, 3, 10]\n"
          ]
        }
      ]
    },
    {
      "cell_type": "code",
      "source": [
        "l = [1, 2, 3]\n",
        "val = 10\n",
        "\n",
        "idx = 0\n",
        "while idx < len(l):\n",
        "    if l[idx] == val:\n",
        "        break\n",
        "    idx += 1\n",
        "else:\n",
        "    l.append(val)\n",
        "\n",
        "print(l)\n"
      ],
      "metadata": {
        "id": "a2l64pCBoG2o",
        "outputId": "a19b32bd-7b33-4c6a-9406-8fa7df7f9e43",
        "colab": {
          "base_uri": "https://localhost:8080/"
        }
      },
      "id": "a2l64pCBoG2o",
      "execution_count": 46,
      "outputs": [
        {
          "output_type": "stream",
          "name": "stdout",
          "text": [
            "[1, 2, 3, 10]\n"
          ]
        }
      ]
    }
  ],
  "metadata": {
    "environment": {
      "name": "common-cpu.m65",
      "type": "gcloud",
      "uri": "gcr.io/deeplearning-platform-release/base-cpu:m65"
    },
    "kernelspec": {
      "name": "python385jvsc74a57bd049d76db75e1e28746d71c3f6b25c62af887e3a226b459dd4a66c59b073abe6db",
      "display_name": "Python 3.8.5 64-bit (conda)"
    },
    "language_info": {
      "codemirror_mode": {
        "name": "ipython",
        "version": 3
      },
      "file_extension": ".py",
      "mimetype": "text/x-python",
      "name": "python",
      "nbconvert_exporter": "python",
      "pygments_lexer": "ipython3",
      "version": "3.8.5"
    },
    "colab": {
      "provenance": [],
      "toc_visible": true
    }
  },
  "nbformat": 4,
  "nbformat_minor": 5
}